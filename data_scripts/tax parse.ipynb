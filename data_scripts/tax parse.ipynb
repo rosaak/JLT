{
 "cells": [
  {
   "cell_type": "code",
   "execution_count": 7,
   "metadata": {
    "collapsed": true
   },
   "outputs": [],
   "source": [
    "import pandas as pd"
   ]
  },
  {
   "cell_type": "code",
   "execution_count": 1,
   "metadata": {
    "collapsed": false
   },
   "outputs": [
    {
     "name": "stdout",
     "output_type": "stream",
     "text": [
      "PlayBioms.py\t      damn.txt\t\t     mapping_file2.txt\r\n",
      "Playing_Pandas.ipynb  data_scripts.Rproj     modified_damn.csv\r\n",
      "Untitled.ipynb\t      final_otu_map.txt      rep_set_tax_assignments.txt\r\n",
      "ahist.R\t\t      final_otu_map_mc1.txt  sofar.R\r\n",
      "bhist.R\t\t      final_qiime.R\t     ssfinal_otu_map.txt\r\n",
      "checkingRphyloseq.R   jiaco2roshan.R\t     ssrep_set_tax_assignments.txt\r\n"
     ]
    }
   ],
   "source": [
    "!ls"
   ]
  },
  {
   "cell_type": "code",
   "execution_count": 2,
   "metadata": {
    "collapsed": false
   },
   "outputs": [
    {
     "name": "stdout",
     "output_type": "stream",
     "text": [
      "206494\tk__Bacteria; p__Firmicutes; c__Clostridia; o__Clostridiales; f__Lachnospiraceae; g__; s__\t0.67\t3\r\n",
      "1800048\tk__Bacteria; p__Bacteroidetes; c__Bacteroidia; o__Bacteroidales; f__Porphyromonadaceae; g__Parabacteroides; s__\t1.00\t3\r\n",
      "541135\tk__Bacteria; p__Firmicutes; c__Bacilli; o__Lactobacillales; f__Lactobacillaceae; g__Lactobacillus; s__\t1.00\t3\r\n"
     ]
    }
   ],
   "source": [
    "!head -3 rep_set_tax_assignments.txt"
   ]
  },
  {
   "cell_type": "code",
   "execution_count": 8,
   "metadata": {
    "collapsed": false
   },
   "outputs": [],
   "source": [
    "tax = pd.read_csv(\"rep_set_tax_assignments.txt\", header=False, sep=\"\\t\")\n",
    "tax.columns = [\"OTU\",\"TAX\",\"ab1\",\"lev\"]\n",
    "ssT = tax[[\"OTU\",\"TAX\"]]\n",
    "#ssT.index= ssT[\"OTU\"]\n",
    "ssT2 = pd.Series(ssT['TAX'])\n",
    "ssT2.index= ssT[\"OTU\"]"
   ]
  },
  {
   "cell_type": "code",
   "execution_count": 16,
   "metadata": {
    "collapsed": false
   },
   "outputs": [
    {
     "data": {
      "text/plain": [
       "OTU\n",
       "541135     k__Bacteria; p__Firmicutes; c__Bacilli; o__Lac...\n",
       "276629     k__Bacteria; p__Bacteroidetes; c__Bacteroidia;...\n",
       "1036749    k__Bacteria; p__Firmicutes; c__Bacilli; o__Gem...\n",
       "Name: TAX, dtype: object"
      ]
     },
     "execution_count": 16,
     "metadata": {},
     "output_type": "execute_result"
    }
   ],
   "source": [
    "ssT2[1:4]"
   ]
  },
  {
   "cell_type": "code",
   "execution_count": 161,
   "metadata": {
    "collapsed": false
   },
   "outputs": [
    {
     "name": "stdout",
     "output_type": "stream",
     "text": [
      "k__Bacteria; p__Proteobacteria; c__Betaproteobacteria; o__Burkholderiales; f__Oxalobacteraceae; g__; s__\n",
      "k__Bacteria; p__Bacteroidetes; c__Bacteroidia; o__Bacteroidales; f__S24-7; g__; s__\n",
      "k__Bacteria; p__Firmicutes; c__Clostridia; o__Clostridiales; f__; g__; s__\n",
      "k__Bacteria; p__Firmicutes; c__Clostridia; o__Clostridiales; f__; g__; s__\n",
      "k__Bacteria; p__Fusobacteria; c__Fusobacteriia; o__Fusobacteriales; f__Leptotrichiaceae; g__Leptotrichia; s__\n",
      "Unassigned\n",
      "k__Bacteria; p__Firmicutes; c__Clostridia; o__Clostridiales; f__Ruminococcaceae; g__Oscillospira; s__\n",
      "Unassigned\n",
      "k__Bacteria; p__Bacteroidetes; c__Flavobacteriia; o__Flavobacteriales; f__[Weeksellaceae]; g__Chryseobacterium; s__\n",
      "k__Bacteria; p__Bacteroidetes; c__Bacteroidia; o__Bacteroidales; f__[Paraprevotellaceae]; g__[Prevotella]; s__\n"
     ]
    }
   ],
   "source": [
    "for i in ssT[\"TAX\"][330:340]:\n",
    "    print i\n",
    "    #print [i.split(\"__\")[1] for i in i.split(\"; \") if i.startswith('p__')][0]"
   ]
  },
  {
   "cell_type": "code",
   "execution_count": 191,
   "metadata": {
    "collapsed": false
   },
   "outputs": [
    {
     "name": "stdout",
     "output_type": "stream",
     "text": [
      "k__Bacteria; p__Proteobacteria; c__Betaproteobacteria; o__Burkholderiales; f__Oxalobacteraceae; g__; s__\n",
      "['Bacteria', 'Proteobacteria', 'Betaproteobacteria', 'Burkholderiales', 'Oxalobacteraceae', '', '']\n",
      "k__Bacteria; p__Bacteroidetes; c__Bacteroidia; o__Bacteroidales; f__S24-7; g__; s__\n",
      "['Bacteria', 'Bacteroidetes', 'Bacteroidia', 'Bacteroidales', 'S24-7', '', '']\n",
      "k__Bacteria; p__Firmicutes; c__Clostridia; o__Clostridiales; f__; g__; s__\n",
      "['Bacteria', 'Firmicutes', 'Clostridia', 'Clostridiales', '', '', '']\n"
     ]
    }
   ],
   "source": [
    "# l1=[\"Kingdom\",\"Phylum\", \"Class\",\"Order\",\"Family\",\"Genus\",\"Specie\",\"Unassigned\"]\n",
    "# l2=[\"k__\",\" p__\", \" c__\",\" o__\",\" f__\",\" g__\",\" s__\",\" Unassigned\"]\n",
    "\n",
    "for i in ssT[\"TAX\"][330:333]:\n",
    "    print i\n",
    "    res=[]\n",
    "    for i in i.split(\";\"):\n",
    "        if i.startswith(\"k__\"):\n",
    "            res.append(i.replace(\"k__\",\"\"))\n",
    "        elif i.startswith(\" p__\"):\n",
    "            res.append(i.replace(\" p__\",\"\"))\n",
    "        elif i.startswith(\" c__\"):\n",
    "            res.append(i.replace(\" c__\",\"\"))\n",
    "        elif i.startswith(\" o__\"):\n",
    "            res.append(i.replace(\" o__\",\"\"))\n",
    "        elif i.startswith(\" f__\"):\n",
    "            res.append(i.replace(\" f__\",\"\").replace(\"[\",\"\").replace(\"]\",\"\"))\n",
    "        elif i.startswith(\" g__\"):\n",
    "            res.append(i.replace(\" g__\",\"\").replace(\"[\",\"\").replace(\"]\",\"\"))\n",
    "        elif i.startswith(\" s__\"):\n",
    "            res.append(i.replace(\" s__\",\"\").replace(\"[\",\"\").replace(\"]\",\"\"))\n",
    "        elif i.startswith(\"Unassigned\"):\n",
    "            res.append(i)\n",
    "            \n",
    "    print res\n",
    "            \n",
    "# Make this as a def"
   ]
  },
  {
   "cell_type": "code",
   "execution_count": null,
   "metadata": {
    "collapsed": true
   },
   "outputs": [],
   "source": [
    "def line_to_taxa(line):\n",
    "    l1=[\"Kingdom\",\"Phylum\", \"Class\",\"Order\",\"Family\",\"Genus\",\"Specie\",\"Unassigned\"]\n",
    "    for i in line:\n",
    "        res=[]\n",
    "        for i in i.split(\";\"):\n",
    "            if i.startswith(\"k__\"):\n",
    "                res.append(i.replace(\"k__\",\"\"))\n",
    "            elif i.startswith(\" p__\"):\n",
    "                res.append(i.replace(\" p__\",\"\"))\n",
    "            elif i.startswith(\" c__\"):\n",
    "                res.append(i.replace(\" c__\",\"\"))\n",
    "            elif i.startswith(\" o__\"):\n",
    "                res.append(i.replace(\" o__\",\"\"))\n",
    "            elif i.startswith(\" f__\"):\n",
    "                res.append(i.replace(\" f__\",\"\").replace(\"[\",\"\").replace(\"]\",\"\"))\n",
    "            elif i.startswith(\" g__\"):\n",
    "                res.append(i.replace(\" g__\",\"\").replace(\"[\",\"\").replace(\"]\",\"\"))\n",
    "            elif i.startswith(\" s__\"):\n",
    "                res.append(i.replace(\" s__\",\"\").replace(\"[\",\"\").replace(\"]\",\"\"))\n",
    "            elif i.startswith(\"Unassigned\"):\n",
    "                res.append(i)\n",
    "        print res"
   ]
  },
  {
   "cell_type": "code",
   "execution_count": 270,
   "metadata": {
    "collapsed": false
   },
   "outputs": [
    {
     "name": "stdout",
     "output_type": "stream",
     "text": [
      "[(0, 'Bacteria'), (1, 'Firmicutes'), (2, 'Clostridia'), (3, 'Clostridiales'), (4, 'NA'), (5, 'NA'), (6, 'NA')]\n"
     ]
    }
   ],
   "source": [
    "line=['k__Bacteria; p__Firmicutes; c__Clostridia; o__Clostridiales; f__; g__; s__']\n",
    "l1=[\"Kingdom\",\"Phylum\", \"Class\",\"Order\",\"Family\",\"Genus\",\"Specie\",\"Unassigned\"]\n",
    "for i in line:\n",
    "    res=[]\n",
    "    for e,i in enumerate(i.split(';')):\n",
    "        if i.startswith(\"k__\"):\n",
    "            res.append((e, NA_check(i.replace(\"k__\", \"\"))))\n",
    "        elif i.startswith(\" p__\"):\n",
    "            res.append((e, NA_check(i.replace(\" p__\", \"\"))))\n",
    "        elif i.startswith(\" c__\"):\n",
    "            res.append((e, NA_check(i.replace(\" c__\", \"\"))))\n",
    "        elif i.startswith(\" o__\"):\n",
    "            res.append((e, NA_check(i.replace(\" o__\", \"\"))))\n",
    "        elif i.startswith(\" f__\"):\n",
    "            res.append((e, NA_check(i.replace(\" f__\", \"\")) ))\n",
    "        elif i.startswith(\" g__\"):\n",
    "            res.append((e, NA_check(i.replace(\" g__\", \"\"))))\n",
    "        elif i.startswith(\" s__\"):\n",
    "            res.append((e, NA_check(i.replace(\" s__\", \"\"))))\n",
    "        elif i.startswith(\"Unassigned\"):\n",
    "            res.append((e, \"Unassigned\"))\n",
    "    print res    \n",
    "    "
   ]
  },
  {
   "cell_type": "code",
   "execution_count": 10,
   "metadata": {
    "collapsed": true
   },
   "outputs": [],
   "source": [
    "def NA_check(s):\n",
    "    if not s.isalnum():\n",
    "        s = \"NA\"\n",
    "        return s\n",
    "    else:\n",
    "        return s"
   ]
  },
  {
   "cell_type": "code",
   "execution_count": 14,
   "metadata": {
    "collapsed": false
   },
   "outputs": [],
   "source": [
    "def line_to_taxa(line):\n",
    "    for i in line:\n",
    "        res=[]\n",
    "        for e,i in enumerate(i.split(';')):\n",
    "            if i.startswith(\"k__\"):\n",
    "                res.append(NA_check(i.replace(\"k__\", \"\")))\n",
    "            elif i.startswith(\" p__\"):\n",
    "                res.append(NA_check(i.replace(\" p__\", \"\")))\n",
    "            elif i.startswith(\" c__\"):\n",
    "                res.append(NA_check(i.replace(\" c__\", \"\")))\n",
    "            elif i.startswith(\" o__\"):\n",
    "                res.append(NA_check(i.replace(\" o__\", \"\")))\n",
    "            elif i.startswith(\" f__\"):\n",
    "                res.append(NA_check(i.replace(\" f__\", \"\")))\n",
    "            elif i.startswith(\" g__\"):\n",
    "                res.append(NA_check(i.replace(\" g__\", \"\")))\n",
    "            elif i.startswith(\" s__\"):\n",
    "                res.append(NA_check(i.replace(\" s__\", \"\")))\n",
    "            elif i.startswith(\"Unassigned\"):\n",
    "                res.append(\"Unassigned\")\n",
    "    return res"
   ]
  },
  {
   "cell_type": "code",
   "execution_count": 24,
   "metadata": {
    "collapsed": false
   },
   "outputs": [],
   "source": [
    "#print line_to_taxa(ssT[\"TAX\"][330:340])"
   ]
  }
 ],
 "metadata": {
  "kernelspec": {
   "display_name": "Python 2",
   "language": "python",
   "name": "python2"
  },
  "language_info": {
   "codemirror_mode": {
    "name": "ipython",
    "version": 2
   },
   "file_extension": ".py",
   "mimetype": "text/x-python",
   "name": "python",
   "nbconvert_exporter": "python",
   "pygments_lexer": "ipython2",
   "version": "2.7.6"
  }
 },
 "nbformat": 4,
 "nbformat_minor": 0
}
